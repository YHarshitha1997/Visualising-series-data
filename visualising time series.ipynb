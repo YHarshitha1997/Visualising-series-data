{
 "cells": [
  {
   "cell_type": "code",
   "execution_count": 1,
   "id": "9119b041",
   "metadata": {},
   "outputs": [],
   "source": [
    "import pandas as pd\n",
    "import seaborn as sns \n",
    "import numpy as np\n",
    "import glob\n",
    "import os\n",
    "import matplotlib.pyplot as plt\n"
   ]
  },
  {
   "cell_type": "code",
   "execution_count": 2,
   "id": "dc8c0a2e",
   "metadata": {},
   "outputs": [],
   "source": [
    "data_1 = pd.read_csv(\"RollingSystemDemand_1.csv\",index_col=False,skiprows=1,skipfooter=1,engine='python',header=None)\n",
    "data_1.columns=['VD','Date_Time','RollingSystemDemand']"
   ]
  },
  {
   "cell_type": "code",
   "execution_count": 3,
   "id": "4916d357",
   "metadata": {},
   "outputs": [],
   "source": [
    "data_1[\"Date_Time\"]=pd.to_datetime(data_1[\"Date_Time\"].astype(str),format='%Y%m%d%H%M%S')"
   ]
  },
  {
   "cell_type": "code",
   "execution_count": 4,
   "id": "9b50a8db",
   "metadata": {},
   "outputs": [
    {
     "data": {
      "text/html": [
       "<div>\n",
       "<style scoped>\n",
       "    .dataframe tbody tr th:only-of-type {\n",
       "        vertical-align: middle;\n",
       "    }\n",
       "\n",
       "    .dataframe tbody tr th {\n",
       "        vertical-align: top;\n",
       "    }\n",
       "\n",
       "    .dataframe thead th {\n",
       "        text-align: right;\n",
       "    }\n",
       "</style>\n",
       "<table border=\"1\" class=\"dataframe\">\n",
       "  <thead>\n",
       "    <tr style=\"text-align: right;\">\n",
       "      <th></th>\n",
       "      <th>VD</th>\n",
       "      <th>Date_Time</th>\n",
       "      <th>RollingSystemDemand</th>\n",
       "    </tr>\n",
       "  </thead>\n",
       "  <tbody>\n",
       "    <tr>\n",
       "      <th>0</th>\n",
       "      <td>VD</td>\n",
       "      <td>2021-09-20 00:00:00</td>\n",
       "      <td>21264</td>\n",
       "    </tr>\n",
       "    <tr>\n",
       "      <th>1</th>\n",
       "      <td>VD</td>\n",
       "      <td>2021-09-20 00:05:00</td>\n",
       "      <td>21281</td>\n",
       "    </tr>\n",
       "    <tr>\n",
       "      <th>2</th>\n",
       "      <td>VD</td>\n",
       "      <td>2021-09-20 00:10:00</td>\n",
       "      <td>21252</td>\n",
       "    </tr>\n",
       "    <tr>\n",
       "      <th>3</th>\n",
       "      <td>VD</td>\n",
       "      <td>2021-09-20 00:15:00</td>\n",
       "      <td>21303</td>\n",
       "    </tr>\n",
       "    <tr>\n",
       "      <th>4</th>\n",
       "      <td>VD</td>\n",
       "      <td>2021-09-20 00:20:00</td>\n",
       "      <td>21199</td>\n",
       "    </tr>\n",
       "    <tr>\n",
       "      <th>...</th>\n",
       "      <td>...</td>\n",
       "      <td>...</td>\n",
       "      <td>...</td>\n",
       "    </tr>\n",
       "    <tr>\n",
       "      <th>1995</th>\n",
       "      <td>VD</td>\n",
       "      <td>2021-09-26 22:15:00</td>\n",
       "      <td>22230</td>\n",
       "    </tr>\n",
       "    <tr>\n",
       "      <th>1996</th>\n",
       "      <td>VD</td>\n",
       "      <td>2021-09-26 22:20:00</td>\n",
       "      <td>21794</td>\n",
       "    </tr>\n",
       "    <tr>\n",
       "      <th>1997</th>\n",
       "      <td>VD</td>\n",
       "      <td>2021-09-26 22:25:00</td>\n",
       "      <td>21568</td>\n",
       "    </tr>\n",
       "    <tr>\n",
       "      <th>1998</th>\n",
       "      <td>VD</td>\n",
       "      <td>2021-09-26 22:30:00</td>\n",
       "      <td>21278</td>\n",
       "    </tr>\n",
       "    <tr>\n",
       "      <th>1999</th>\n",
       "      <td>VD</td>\n",
       "      <td>2021-09-26 22:35:00</td>\n",
       "      <td>21181</td>\n",
       "    </tr>\n",
       "  </tbody>\n",
       "</table>\n",
       "<p>2000 rows × 3 columns</p>\n",
       "</div>"
      ],
      "text/plain": [
       "      VD           Date_Time  RollingSystemDemand\n",
       "0     VD 2021-09-20 00:00:00                21264\n",
       "1     VD 2021-09-20 00:05:00                21281\n",
       "2     VD 2021-09-20 00:10:00                21252\n",
       "3     VD 2021-09-20 00:15:00                21303\n",
       "4     VD 2021-09-20 00:20:00                21199\n",
       "...   ..                 ...                  ...\n",
       "1995  VD 2021-09-26 22:15:00                22230\n",
       "1996  VD 2021-09-26 22:20:00                21794\n",
       "1997  VD 2021-09-26 22:25:00                21568\n",
       "1998  VD 2021-09-26 22:30:00                21278\n",
       "1999  VD 2021-09-26 22:35:00                21181\n",
       "\n",
       "[2000 rows x 3 columns]"
      ]
     },
     "execution_count": 4,
     "metadata": {},
     "output_type": "execute_result"
    }
   ],
   "source": [
    "data_1"
   ]
  },
  {
   "cell_type": "code",
   "execution_count": 5,
   "id": "8e073a4c",
   "metadata": {},
   "outputs": [],
   "source": [
    "data_2 = pd.read_csv(\"RollingSystemDemand_2.csv\",index_col=False,skiprows=1,skipfooter=1,engine='python',header=None)\n",
    "data_2.columns=['VD','Date_Time','RollingSystemDemand']"
   ]
  },
  {
   "cell_type": "code",
   "execution_count": 6,
   "id": "ad6c40d7",
   "metadata": {},
   "outputs": [],
   "source": [
    "data_2[\"Date_Time\"]=pd.to_datetime(data_2[\"Date_Time\"].astype(str),format='%Y%m%d%H%M%S')"
   ]
  },
  {
   "cell_type": "code",
   "execution_count": 7,
   "id": "91833565",
   "metadata": {},
   "outputs": [
    {
     "data": {
      "text/html": [
       "<div>\n",
       "<style scoped>\n",
       "    .dataframe tbody tr th:only-of-type {\n",
       "        vertical-align: middle;\n",
       "    }\n",
       "\n",
       "    .dataframe tbody tr th {\n",
       "        vertical-align: top;\n",
       "    }\n",
       "\n",
       "    .dataframe thead th {\n",
       "        text-align: right;\n",
       "    }\n",
       "</style>\n",
       "<table border=\"1\" class=\"dataframe\">\n",
       "  <thead>\n",
       "    <tr style=\"text-align: right;\">\n",
       "      <th></th>\n",
       "      <th>VD</th>\n",
       "      <th>Date_Time</th>\n",
       "      <th>RollingSystemDemand</th>\n",
       "    </tr>\n",
       "  </thead>\n",
       "  <tbody>\n",
       "    <tr>\n",
       "      <th>0</th>\n",
       "      <td>VD</td>\n",
       "      <td>2021-09-20 00:00:00</td>\n",
       "      <td>21264</td>\n",
       "    </tr>\n",
       "    <tr>\n",
       "      <th>1</th>\n",
       "      <td>VD</td>\n",
       "      <td>2021-09-20 00:05:00</td>\n",
       "      <td>21281</td>\n",
       "    </tr>\n",
       "    <tr>\n",
       "      <th>2</th>\n",
       "      <td>VD</td>\n",
       "      <td>2021-09-20 00:10:00</td>\n",
       "      <td>21252</td>\n",
       "    </tr>\n",
       "    <tr>\n",
       "      <th>3</th>\n",
       "      <td>VD</td>\n",
       "      <td>2021-09-20 00:15:00</td>\n",
       "      <td>21303</td>\n",
       "    </tr>\n",
       "    <tr>\n",
       "      <th>4</th>\n",
       "      <td>VD</td>\n",
       "      <td>2021-09-20 00:20:00</td>\n",
       "      <td>21199</td>\n",
       "    </tr>\n",
       "    <tr>\n",
       "      <th>...</th>\n",
       "      <td>...</td>\n",
       "      <td>...</td>\n",
       "      <td>...</td>\n",
       "    </tr>\n",
       "    <tr>\n",
       "      <th>1995</th>\n",
       "      <td>VD</td>\n",
       "      <td>2021-09-26 22:15:00</td>\n",
       "      <td>22230</td>\n",
       "    </tr>\n",
       "    <tr>\n",
       "      <th>1996</th>\n",
       "      <td>VD</td>\n",
       "      <td>2021-09-26 22:20:00</td>\n",
       "      <td>21794</td>\n",
       "    </tr>\n",
       "    <tr>\n",
       "      <th>1997</th>\n",
       "      <td>VD</td>\n",
       "      <td>2021-09-26 22:25:00</td>\n",
       "      <td>21568</td>\n",
       "    </tr>\n",
       "    <tr>\n",
       "      <th>1998</th>\n",
       "      <td>VD</td>\n",
       "      <td>2021-09-26 22:30:00</td>\n",
       "      <td>21278</td>\n",
       "    </tr>\n",
       "    <tr>\n",
       "      <th>1999</th>\n",
       "      <td>VD</td>\n",
       "      <td>2021-09-26 22:35:00</td>\n",
       "      <td>21181</td>\n",
       "    </tr>\n",
       "  </tbody>\n",
       "</table>\n",
       "<p>2000 rows × 3 columns</p>\n",
       "</div>"
      ],
      "text/plain": [
       "      VD           Date_Time  RollingSystemDemand\n",
       "0     VD 2021-09-20 00:00:00                21264\n",
       "1     VD 2021-09-20 00:05:00                21281\n",
       "2     VD 2021-09-20 00:10:00                21252\n",
       "3     VD 2021-09-20 00:15:00                21303\n",
       "4     VD 2021-09-20 00:20:00                21199\n",
       "...   ..                 ...                  ...\n",
       "1995  VD 2021-09-26 22:15:00                22230\n",
       "1996  VD 2021-09-26 22:20:00                21794\n",
       "1997  VD 2021-09-26 22:25:00                21568\n",
       "1998  VD 2021-09-26 22:30:00                21278\n",
       "1999  VD 2021-09-26 22:35:00                21181\n",
       "\n",
       "[2000 rows x 3 columns]"
      ]
     },
     "execution_count": 7,
     "metadata": {},
     "output_type": "execute_result"
    }
   ],
   "source": [
    "data_1"
   ]
  },
  {
   "cell_type": "code",
   "execution_count": 8,
   "id": "429330cc",
   "metadata": {},
   "outputs": [],
   "source": [
    "data_3 = pd.read_csv(\"RollingSystemDemand_3.csv\",index_col=False,skiprows=1,skipfooter=1,engine='python',header=None)\n",
    "data_3.columns=['VD','Date_Time','RollingSystemDemand']"
   ]
  },
  {
   "cell_type": "code",
   "execution_count": 9,
   "id": "814b13c0",
   "metadata": {},
   "outputs": [],
   "source": [
    "data_3[\"Date_Time\"]=pd.to_datetime(data_3[\"Date_Time\"].astype(str),format='%Y%m%d%H%M%S')"
   ]
  },
  {
   "cell_type": "code",
   "execution_count": 10,
   "id": "c8b87640",
   "metadata": {},
   "outputs": [
    {
     "data": {
      "text/html": [
       "<div>\n",
       "<style scoped>\n",
       "    .dataframe tbody tr th:only-of-type {\n",
       "        vertical-align: middle;\n",
       "    }\n",
       "\n",
       "    .dataframe tbody tr th {\n",
       "        vertical-align: top;\n",
       "    }\n",
       "\n",
       "    .dataframe thead th {\n",
       "        text-align: right;\n",
       "    }\n",
       "</style>\n",
       "<table border=\"1\" class=\"dataframe\">\n",
       "  <thead>\n",
       "    <tr style=\"text-align: right;\">\n",
       "      <th></th>\n",
       "      <th>VD</th>\n",
       "      <th>Date_Time</th>\n",
       "      <th>RollingSystemDemand</th>\n",
       "    </tr>\n",
       "  </thead>\n",
       "  <tbody>\n",
       "    <tr>\n",
       "      <th>0</th>\n",
       "      <td>VD</td>\n",
       "      <td>2021-10-04 00:00:00</td>\n",
       "      <td>21484</td>\n",
       "    </tr>\n",
       "    <tr>\n",
       "      <th>1</th>\n",
       "      <td>VD</td>\n",
       "      <td>2021-10-04 00:05:00</td>\n",
       "      <td>21570</td>\n",
       "    </tr>\n",
       "    <tr>\n",
       "      <th>2</th>\n",
       "      <td>VD</td>\n",
       "      <td>2021-10-04 00:10:00</td>\n",
       "      <td>21513</td>\n",
       "    </tr>\n",
       "    <tr>\n",
       "      <th>3</th>\n",
       "      <td>VD</td>\n",
       "      <td>2021-10-04 00:15:00</td>\n",
       "      <td>21465</td>\n",
       "    </tr>\n",
       "    <tr>\n",
       "      <th>4</th>\n",
       "      <td>VD</td>\n",
       "      <td>2021-10-04 00:20:00</td>\n",
       "      <td>21374</td>\n",
       "    </tr>\n",
       "    <tr>\n",
       "      <th>...</th>\n",
       "      <td>...</td>\n",
       "      <td>...</td>\n",
       "      <td>...</td>\n",
       "    </tr>\n",
       "    <tr>\n",
       "      <th>1995</th>\n",
       "      <td>VD</td>\n",
       "      <td>2021-10-10 22:15:00</td>\n",
       "      <td>23531</td>\n",
       "    </tr>\n",
       "    <tr>\n",
       "      <th>1996</th>\n",
       "      <td>VD</td>\n",
       "      <td>2021-10-10 22:20:00</td>\n",
       "      <td>23329</td>\n",
       "    </tr>\n",
       "    <tr>\n",
       "      <th>1997</th>\n",
       "      <td>VD</td>\n",
       "      <td>2021-10-10 22:25:00</td>\n",
       "      <td>23045</td>\n",
       "    </tr>\n",
       "    <tr>\n",
       "      <th>1998</th>\n",
       "      <td>VD</td>\n",
       "      <td>2021-10-10 22:30:00</td>\n",
       "      <td>22804</td>\n",
       "    </tr>\n",
       "    <tr>\n",
       "      <th>1999</th>\n",
       "      <td>VD</td>\n",
       "      <td>2021-10-10 22:35:00</td>\n",
       "      <td>22806</td>\n",
       "    </tr>\n",
       "  </tbody>\n",
       "</table>\n",
       "<p>2000 rows × 3 columns</p>\n",
       "</div>"
      ],
      "text/plain": [
       "      VD           Date_Time  RollingSystemDemand\n",
       "0     VD 2021-10-04 00:00:00                21484\n",
       "1     VD 2021-10-04 00:05:00                21570\n",
       "2     VD 2021-10-04 00:10:00                21513\n",
       "3     VD 2021-10-04 00:15:00                21465\n",
       "4     VD 2021-10-04 00:20:00                21374\n",
       "...   ..                 ...                  ...\n",
       "1995  VD 2021-10-10 22:15:00                23531\n",
       "1996  VD 2021-10-10 22:20:00                23329\n",
       "1997  VD 2021-10-10 22:25:00                23045\n",
       "1998  VD 2021-10-10 22:30:00                22804\n",
       "1999  VD 2021-10-10 22:35:00                22806\n",
       "\n",
       "[2000 rows x 3 columns]"
      ]
     },
     "execution_count": 10,
     "metadata": {},
     "output_type": "execute_result"
    }
   ],
   "source": [
    "data_3"
   ]
  },
  {
   "cell_type": "code",
   "execution_count": 11,
   "id": "3908eac8",
   "metadata": {},
   "outputs": [],
   "source": [
    "data = pd.concat([data_1,data_2,data_3])"
   ]
  },
  {
   "cell_type": "code",
   "execution_count": 12,
   "id": "231742c1",
   "metadata": {},
   "outputs": [
    {
     "data": {
      "text/html": [
       "<div>\n",
       "<style scoped>\n",
       "    .dataframe tbody tr th:only-of-type {\n",
       "        vertical-align: middle;\n",
       "    }\n",
       "\n",
       "    .dataframe tbody tr th {\n",
       "        vertical-align: top;\n",
       "    }\n",
       "\n",
       "    .dataframe thead th {\n",
       "        text-align: right;\n",
       "    }\n",
       "</style>\n",
       "<table border=\"1\" class=\"dataframe\">\n",
       "  <thead>\n",
       "    <tr style=\"text-align: right;\">\n",
       "      <th></th>\n",
       "      <th>VD</th>\n",
       "      <th>Date_Time</th>\n",
       "      <th>RollingSystemDemand</th>\n",
       "    </tr>\n",
       "  </thead>\n",
       "  <tbody>\n",
       "    <tr>\n",
       "      <th>0</th>\n",
       "      <td>VD</td>\n",
       "      <td>2021-09-20 00:00:00</td>\n",
       "      <td>21264</td>\n",
       "    </tr>\n",
       "    <tr>\n",
       "      <th>1</th>\n",
       "      <td>VD</td>\n",
       "      <td>2021-09-20 00:05:00</td>\n",
       "      <td>21281</td>\n",
       "    </tr>\n",
       "    <tr>\n",
       "      <th>2</th>\n",
       "      <td>VD</td>\n",
       "      <td>2021-09-20 00:10:00</td>\n",
       "      <td>21252</td>\n",
       "    </tr>\n",
       "    <tr>\n",
       "      <th>3</th>\n",
       "      <td>VD</td>\n",
       "      <td>2021-09-20 00:15:00</td>\n",
       "      <td>21303</td>\n",
       "    </tr>\n",
       "    <tr>\n",
       "      <th>4</th>\n",
       "      <td>VD</td>\n",
       "      <td>2021-09-20 00:20:00</td>\n",
       "      <td>21199</td>\n",
       "    </tr>\n",
       "    <tr>\n",
       "      <th>...</th>\n",
       "      <td>...</td>\n",
       "      <td>...</td>\n",
       "      <td>...</td>\n",
       "    </tr>\n",
       "    <tr>\n",
       "      <th>1995</th>\n",
       "      <td>VD</td>\n",
       "      <td>2021-10-10 22:15:00</td>\n",
       "      <td>23531</td>\n",
       "    </tr>\n",
       "    <tr>\n",
       "      <th>1996</th>\n",
       "      <td>VD</td>\n",
       "      <td>2021-10-10 22:20:00</td>\n",
       "      <td>23329</td>\n",
       "    </tr>\n",
       "    <tr>\n",
       "      <th>1997</th>\n",
       "      <td>VD</td>\n",
       "      <td>2021-10-10 22:25:00</td>\n",
       "      <td>23045</td>\n",
       "    </tr>\n",
       "    <tr>\n",
       "      <th>1998</th>\n",
       "      <td>VD</td>\n",
       "      <td>2021-10-10 22:30:00</td>\n",
       "      <td>22804</td>\n",
       "    </tr>\n",
       "    <tr>\n",
       "      <th>1999</th>\n",
       "      <td>VD</td>\n",
       "      <td>2021-10-10 22:35:00</td>\n",
       "      <td>22806</td>\n",
       "    </tr>\n",
       "  </tbody>\n",
       "</table>\n",
       "<p>6000 rows × 3 columns</p>\n",
       "</div>"
      ],
      "text/plain": [
       "      VD           Date_Time  RollingSystemDemand\n",
       "0     VD 2021-09-20 00:00:00                21264\n",
       "1     VD 2021-09-20 00:05:00                21281\n",
       "2     VD 2021-09-20 00:10:00                21252\n",
       "3     VD 2021-09-20 00:15:00                21303\n",
       "4     VD 2021-09-20 00:20:00                21199\n",
       "...   ..                 ...                  ...\n",
       "1995  VD 2021-10-10 22:15:00                23531\n",
       "1996  VD 2021-10-10 22:20:00                23329\n",
       "1997  VD 2021-10-10 22:25:00                23045\n",
       "1998  VD 2021-10-10 22:30:00                22804\n",
       "1999  VD 2021-10-10 22:35:00                22806\n",
       "\n",
       "[6000 rows x 3 columns]"
      ]
     },
     "execution_count": 12,
     "metadata": {},
     "output_type": "execute_result"
    }
   ],
   "source": [
    "data"
   ]
  },
  {
   "cell_type": "code",
   "execution_count": 13,
   "id": "09a47357",
   "metadata": {},
   "outputs": [
    {
     "data": {
      "text/plain": [
       "VD                             object\n",
       "Date_Time              datetime64[ns]\n",
       "RollingSystemDemand             int64\n",
       "dtype: object"
      ]
     },
     "execution_count": 13,
     "metadata": {},
     "output_type": "execute_result"
    }
   ],
   "source": [
    "data.dtypes"
   ]
  },
  {
   "cell_type": "code",
   "execution_count": 14,
   "id": "94a48ab4",
   "metadata": {},
   "outputs": [
    {
     "data": {
      "text/plain": [
       "VD                     0\n",
       "Date_Time              0\n",
       "RollingSystemDemand    0\n",
       "dtype: int64"
      ]
     },
     "execution_count": 14,
     "metadata": {},
     "output_type": "execute_result"
    }
   ],
   "source": [
    "data.isnull().sum()"
   ]
  },
  {
   "cell_type": "code",
   "execution_count": 15,
   "id": "22de9f2e",
   "metadata": {},
   "outputs": [],
   "source": [
    "data.index=range(len(data))"
   ]
  },
  {
   "cell_type": "code",
   "execution_count": 16,
   "id": "4d1ab566",
   "metadata": {},
   "outputs": [],
   "source": [
    "def hour_fun(x):\n",
    "    return x.hour\n",
    "data['tm_hour'] = data['Date_Time'].apply(hour_fun)\n",
    "data['tm_date'] = pd.DatetimeIndex(data['Date_Time']).day"
   ]
  },
  {
   "cell_type": "code",
   "execution_count": 17,
   "id": "c95bf1c6",
   "metadata": {},
   "outputs": [
    {
     "data": {
      "text/html": [
       "<div>\n",
       "<style scoped>\n",
       "    .dataframe tbody tr th:only-of-type {\n",
       "        vertical-align: middle;\n",
       "    }\n",
       "\n",
       "    .dataframe tbody tr th {\n",
       "        vertical-align: top;\n",
       "    }\n",
       "\n",
       "    .dataframe thead th {\n",
       "        text-align: right;\n",
       "    }\n",
       "</style>\n",
       "<table border=\"1\" class=\"dataframe\">\n",
       "  <thead>\n",
       "    <tr style=\"text-align: right;\">\n",
       "      <th></th>\n",
       "      <th>VD</th>\n",
       "      <th>Date_Time</th>\n",
       "      <th>RollingSystemDemand</th>\n",
       "      <th>tm_hour</th>\n",
       "      <th>tm_date</th>\n",
       "    </tr>\n",
       "  </thead>\n",
       "  <tbody>\n",
       "    <tr>\n",
       "      <th>0</th>\n",
       "      <td>VD</td>\n",
       "      <td>2021-09-20 00:00:00</td>\n",
       "      <td>21264</td>\n",
       "      <td>0</td>\n",
       "      <td>20</td>\n",
       "    </tr>\n",
       "    <tr>\n",
       "      <th>1</th>\n",
       "      <td>VD</td>\n",
       "      <td>2021-09-20 00:05:00</td>\n",
       "      <td>21281</td>\n",
       "      <td>0</td>\n",
       "      <td>20</td>\n",
       "    </tr>\n",
       "    <tr>\n",
       "      <th>2</th>\n",
       "      <td>VD</td>\n",
       "      <td>2021-09-20 00:10:00</td>\n",
       "      <td>21252</td>\n",
       "      <td>0</td>\n",
       "      <td>20</td>\n",
       "    </tr>\n",
       "    <tr>\n",
       "      <th>3</th>\n",
       "      <td>VD</td>\n",
       "      <td>2021-09-20 00:15:00</td>\n",
       "      <td>21303</td>\n",
       "      <td>0</td>\n",
       "      <td>20</td>\n",
       "    </tr>\n",
       "    <tr>\n",
       "      <th>4</th>\n",
       "      <td>VD</td>\n",
       "      <td>2021-09-20 00:20:00</td>\n",
       "      <td>21199</td>\n",
       "      <td>0</td>\n",
       "      <td>20</td>\n",
       "    </tr>\n",
       "    <tr>\n",
       "      <th>...</th>\n",
       "      <td>...</td>\n",
       "      <td>...</td>\n",
       "      <td>...</td>\n",
       "      <td>...</td>\n",
       "      <td>...</td>\n",
       "    </tr>\n",
       "    <tr>\n",
       "      <th>5995</th>\n",
       "      <td>VD</td>\n",
       "      <td>2021-10-10 22:15:00</td>\n",
       "      <td>23531</td>\n",
       "      <td>22</td>\n",
       "      <td>10</td>\n",
       "    </tr>\n",
       "    <tr>\n",
       "      <th>5996</th>\n",
       "      <td>VD</td>\n",
       "      <td>2021-10-10 22:20:00</td>\n",
       "      <td>23329</td>\n",
       "      <td>22</td>\n",
       "      <td>10</td>\n",
       "    </tr>\n",
       "    <tr>\n",
       "      <th>5997</th>\n",
       "      <td>VD</td>\n",
       "      <td>2021-10-10 22:25:00</td>\n",
       "      <td>23045</td>\n",
       "      <td>22</td>\n",
       "      <td>10</td>\n",
       "    </tr>\n",
       "    <tr>\n",
       "      <th>5998</th>\n",
       "      <td>VD</td>\n",
       "      <td>2021-10-10 22:30:00</td>\n",
       "      <td>22804</td>\n",
       "      <td>22</td>\n",
       "      <td>10</td>\n",
       "    </tr>\n",
       "    <tr>\n",
       "      <th>5999</th>\n",
       "      <td>VD</td>\n",
       "      <td>2021-10-10 22:35:00</td>\n",
       "      <td>22806</td>\n",
       "      <td>22</td>\n",
       "      <td>10</td>\n",
       "    </tr>\n",
       "  </tbody>\n",
       "</table>\n",
       "<p>6000 rows × 5 columns</p>\n",
       "</div>"
      ],
      "text/plain": [
       "      VD           Date_Time  RollingSystemDemand  tm_hour  tm_date\n",
       "0     VD 2021-09-20 00:00:00                21264        0       20\n",
       "1     VD 2021-09-20 00:05:00                21281        0       20\n",
       "2     VD 2021-09-20 00:10:00                21252        0       20\n",
       "3     VD 2021-09-20 00:15:00                21303        0       20\n",
       "4     VD 2021-09-20 00:20:00                21199        0       20\n",
       "...   ..                 ...                  ...      ...      ...\n",
       "5995  VD 2021-10-10 22:15:00                23531       22       10\n",
       "5996  VD 2021-10-10 22:20:00                23329       22       10\n",
       "5997  VD 2021-10-10 22:25:00                23045       22       10\n",
       "5998  VD 2021-10-10 22:30:00                22804       22       10\n",
       "5999  VD 2021-10-10 22:35:00                22806       22       10\n",
       "\n",
       "[6000 rows x 5 columns]"
      ]
     },
     "execution_count": 17,
     "metadata": {},
     "output_type": "execute_result"
    }
   ],
   "source": [
    "data"
   ]
  },
  {
   "cell_type": "code",
   "execution_count": 18,
   "id": "5f6bc6de",
   "metadata": {},
   "outputs": [
    {
     "data": {
      "text/plain": [
       "0        0\n",
       "1        0\n",
       "2        0\n",
       "3        0\n",
       "4        0\n",
       "        ..\n",
       "5995    22\n",
       "5996    22\n",
       "5997    22\n",
       "5998    22\n",
       "5999    22\n",
       "Name: tm_hour, Length: 6000, dtype: int64"
      ]
     },
     "execution_count": 18,
     "metadata": {},
     "output_type": "execute_result"
    }
   ],
   "source": [
    "data['tm_hour']"
   ]
  },
  {
   "cell_type": "code",
   "execution_count": 19,
   "id": "21444bc1",
   "metadata": {},
   "outputs": [
    {
     "data": {
      "text/plain": [
       "0       20\n",
       "1       20\n",
       "2       20\n",
       "3       20\n",
       "4       20\n",
       "        ..\n",
       "5995    10\n",
       "5996    10\n",
       "5997    10\n",
       "5998    10\n",
       "5999    10\n",
       "Name: tm_date, Length: 6000, dtype: int64"
      ]
     },
     "execution_count": 19,
     "metadata": {},
     "output_type": "execute_result"
    }
   ],
   "source": [
    "data['tm_date']"
   ]
  },
  {
   "cell_type": "code",
   "execution_count": 20,
   "id": "72505678",
   "metadata": {},
   "outputs": [],
   "source": [
    "convert_dict = {'RollingSystemDemand':float}\n",
    "data = data.astype(convert_dict)                              "
   ]
  },
  {
   "cell_type": "code",
   "execution_count": 21,
   "id": "146b1060",
   "metadata": {},
   "outputs": [
    {
     "data": {
      "text/plain": [
       "VD                             object\n",
       "Date_Time              datetime64[ns]\n",
       "RollingSystemDemand           float64\n",
       "tm_hour                         int64\n",
       "tm_date                         int64\n",
       "dtype: object"
      ]
     },
     "execution_count": 21,
     "metadata": {},
     "output_type": "execute_result"
    }
   ],
   "source": [
    "data.dtypes"
   ]
  },
  {
   "cell_type": "code",
   "execution_count": 22,
   "id": "f032a90a",
   "metadata": {},
   "outputs": [
    {
     "data": {
      "text/plain": [
       "Text(0.5, 1.0, 'Mean value across all days per every hour')"
      ]
     },
     "execution_count": 22,
     "metadata": {},
     "output_type": "execute_result"
    },
    {
     "data": {
      "image/png": "[encoded data removed]",
      "text/plain": [
       "<Figure size 432x288 with 1 Axes>"
      ]
     },
     "metadata": {
      "needs_background": "light"
     },
     "output_type": "display_data"
    }
   ],
   "source": [
    "data['RollingSystemDemand'].groupby(data['tm_hour']).mean().plot(kind='bar', color='blue')\n",
    "plt.xlabel('Number of Hours', fontsize=20)\n",
    "plt.ylabel('Average of demand in Mega Watts', fontsize=20)\n",
    "plt.title('Mean value across all days per every hour', fontsize=20)"
   ]
  },
  {
   "cell_type": "code",
   "execution_count": 23,
   "id": "e3738cba",
   "metadata": {},
   "outputs": [
    {
     "data": {
      "text/plain": [
       "tm_date  tm_hour\n",
       "1        0          20777.666667\n",
       "         1          20768.250000\n",
       "         2          20555.250000\n",
       "         3          20717.000000\n",
       "         4          20999.666667\n",
       "                        ...     \n",
       "30       19         32323.333333\n",
       "         20         29784.083333\n",
       "         21         26419.666667\n",
       "         22         23059.083333\n",
       "         23         21204.250000\n",
       "Name: RollingSystemDemand, Length: 501, dtype: float64"
      ]
     },
     "execution_count": 23,
     "metadata": {},
     "output_type": "execute_result"
    }
   ],
   "source": [
    "data['RollingSystemDemand'].groupby([data['tm_date'],data['tm_hour']]).mean()"
   ]
  },
  {
   "cell_type": "code",
   "execution_count": 25,
   "id": "c09cff28",
   "metadata": {},
   "outputs": [
    {
     "data": {
      "text/plain": [
       "Text(0.5, 1.0, 'Mean value across all days per every hour')"
      ]
     },
     "execution_count": 25,
     "metadata": {},
     "output_type": "execute_result"
    },
    {
     "data": {
      "image/png": "[encoded data removed]",
      "text/plain": [
       "<Figure size 2880x2880 with 1 Axes>"
      ]
     },
     "metadata": {
      "needs_background": "light"
     },
     "output_type": "display_data"
    }
   ],
   "source": [
    "fig_size = plt.rcParams[\"figure.figsize\"]\n",
    "fig_size[0] = 40\n",
    "fig_size[1] = 40\n",
    "data['RollingSystemDemand'].groupby([data['tm_hour'],data['tm_date']]).mean().plot(kind='bar', color='blue')\n",
    "plt.xlabel('Number of Hours', fontsize=20)\n",
    "plt.ylabel('Date & hour', fontsize=20)\n",
    "plt.title('Mean value across all days per every hour', fontsize=20)"
   ]
  },
  {
   "cell_type": "code",
   "execution_count": null,
   "id": "c697238d",
   "metadata": {},
   "outputs": [],
   "source": []
  }
 ],
 "metadata": {
  "kernelspec": {
   "display_name": "Python 3",
   "language": "python",
   "name": "python3"
  },
  "language_info": {
   "codemirror_mode": {
    "name": "ipython",
    "version": 3
   },
   "file_extension": ".py",
   "mimetype": "text/x-python",
   "name": "python",
   "nbconvert_exporter": "python",
   "pygments_lexer": "ipython3",
   "version": "3.8.8"
  }
 },
 "nbformat": 4,
 "nbformat_minor": 5
}
